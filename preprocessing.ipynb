{
 "cells": [
  {
   "cell_type": "code",
   "execution_count": 1,
   "id": "01752eb7",
   "metadata": {},
   "outputs": [
    {
     "ename": "FileExistsError",
     "evalue": "[WinError 183] Cannot create a file when that file already exists: 'dataluv/train'",
     "output_type": "error",
     "traceback": [
      "\u001b[1;31m---------------------------------------------------------------------------\u001b[0m",
      "\u001b[1;31mFileExistsError\u001b[0m                           Traceback (most recent call last)",
      "Input \u001b[1;32mIn [1]\u001b[0m, in \u001b[0;36m<cell line: 8>\u001b[1;34m()\u001b[0m\n\u001b[0;32m      7\u001b[0m     os\u001b[38;5;241m.\u001b[39mmakedirs(\u001b[38;5;124m\"\u001b[39m\u001b[38;5;124mdata2\u001b[39m\u001b[38;5;124m\"\u001b[39m)\n\u001b[0;32m      8\u001b[0m \u001b[38;5;28;01mif\u001b[39;00m \u001b[38;5;129;01mnot\u001b[39;00m os\u001b[38;5;241m.\u001b[39mpath\u001b[38;5;241m.\u001b[39mexists(\u001b[38;5;124m\"\u001b[39m\u001b[38;5;124mdata2/train\u001b[39m\u001b[38;5;124m\"\u001b[39m):\n\u001b[1;32m----> 9\u001b[0m     \u001b[43mos\u001b[49m\u001b[38;5;241;43m.\u001b[39;49m\u001b[43mmakedirs\u001b[49m\u001b[43m(\u001b[49m\u001b[38;5;124;43m\"\u001b[39;49m\u001b[38;5;124;43mdataluv/train\u001b[39;49m\u001b[38;5;124;43m\"\u001b[39;49m\u001b[43m)\u001b[49m\n\u001b[0;32m     10\u001b[0m \u001b[38;5;28;01mif\u001b[39;00m \u001b[38;5;129;01mnot\u001b[39;00m os\u001b[38;5;241m.\u001b[39mpath\u001b[38;5;241m.\u001b[39mexists(\u001b[38;5;124m\"\u001b[39m\u001b[38;5;124mdata2/test\u001b[39m\u001b[38;5;124m\"\u001b[39m):\n\u001b[0;32m     11\u001b[0m     os\u001b[38;5;241m.\u001b[39mmakedirs(\u001b[38;5;124m\"\u001b[39m\u001b[38;5;124mdata2/test\u001b[39m\u001b[38;5;124m\"\u001b[39m)\n",
      "File \u001b[1;32mc:\\users\\hp\\appdata\\local\\programs\\python\\python39\\lib\\os.py:225\u001b[0m, in \u001b[0;36mmakedirs\u001b[1;34m(name, mode, exist_ok)\u001b[0m\n\u001b[0;32m    223\u001b[0m         \u001b[38;5;28;01mreturn\u001b[39;00m\n\u001b[0;32m    224\u001b[0m \u001b[38;5;28;01mtry\u001b[39;00m:\n\u001b[1;32m--> 225\u001b[0m     \u001b[43mmkdir\u001b[49m\u001b[43m(\u001b[49m\u001b[43mname\u001b[49m\u001b[43m,\u001b[49m\u001b[43m \u001b[49m\u001b[43mmode\u001b[49m\u001b[43m)\u001b[49m\n\u001b[0;32m    226\u001b[0m \u001b[38;5;28;01mexcept\u001b[39;00m \u001b[38;5;167;01mOSError\u001b[39;00m:\n\u001b[0;32m    227\u001b[0m     \u001b[38;5;66;03m# Cannot rely on checking for EEXIST, since the operating system\u001b[39;00m\n\u001b[0;32m    228\u001b[0m     \u001b[38;5;66;03m# could give priority to other errors like EACCES or EROFS\u001b[39;00m\n\u001b[0;32m    229\u001b[0m     \u001b[38;5;28;01mif\u001b[39;00m \u001b[38;5;129;01mnot\u001b[39;00m exist_ok \u001b[38;5;129;01mor\u001b[39;00m \u001b[38;5;129;01mnot\u001b[39;00m path\u001b[38;5;241m.\u001b[39misdir(name):\n",
      "\u001b[1;31mFileExistsError\u001b[0m: [WinError 183] Cannot create a file when that file already exists: 'dataluv/train'"
     ]
    }
   ],
   "source": [
    "import numpy as np\n",
    "import cv2\n",
    "import os\n",
    "import csv\n",
    "from image_processing import func\n",
    "if not os.path.exists(\"data2\"):\n",
    "    os.makedirs(\"data2\")\n",
    "if not os.path.exists(\"data2/train\"):\n",
    "    os.makedirs(\"dataluv/train\")\n",
    "if not os.path.exists(\"data2/test\"):\n",
    "    os.makedirs(\"data2/test\")\n",
    "path=r\"C:\\Users\\hp\\AppData\\Local\\Programs\\Python\\Python39\\Scripts\\Sign-Language-to-Text-master (1)\\Sign-Language-to-Text-master\\data\\train\"\n",
    "path1 = r\"C:\\Users\\hp\\AppData\\Local\\Programs\\Python\\Python39\\Scripts\\Sign-Language-to-Text-master (1)\\Sign-Language-to-Text-master\\data2\"\n",
    "a=['label']\n",
    "\n",
    "for i in range(64*64):\n",
    "    a.append(\"pixel\"+str(i))\n",
    "    \n",
    "\n",
    "#outputLine = a.tolist()\n",
    "\n",
    "\n",
    "label=0\n",
    "var = 0\n",
    "c1 = 0\n",
    "c2 = 0\n",
    "\n",
    "for (dirpath,dirnames,filenames) in os.walk(path):\n",
    "    for dirname in dirnames:\n",
    "        print(dirname)\n",
    "        for(direcpath,direcnames,files) in os.walk(path+\"/\"+dirname):\n",
    "       \t    if not os.path.exists(path1+\"/train/\"+dirname):\n",
    "                os.makedirs(path1+\"/train/\"+dirname)\n",
    "            if not os.path.exists(path1+\"/test/\"+dirname):\n",
    "                os.makedirs(path1+\"/test/\"+dirname)\n",
    "            # num=0.75*len(files)\n",
    "            num = 100000000000000000\n",
    "            i=0\n",
    "            for file in files:\n",
    "                var+=1\n",
    "                actual_path=path+\"/\"+dirname+\"/\"+file\n",
    "                actual_path1=path1+\"/\"+\"train/\"+dirname+\"/\"+file\n",
    "                actual_path2=path1+\"/\"+\"test/\"+dirname+\"/\"+file\n",
    "                img = cv2.imread(actual_path, 0)\n",
    "                bw_image = func(actual_path)\n",
    "                if i<num:\n",
    "                    c1 += 1\n",
    "                    cv2.imwrite(actual_path1 , bw_image)\n",
    "                else:\n",
    "                    c2 += 1\n",
    "                    cv2.imwrite(actual_path2 , bw_image)\n",
    "                    \n",
    "                i=i+1\n",
    "                \n",
    "        label=label+1\n",
    "print(var)\n",
    "print(c1)\n",
    "print(c2)\n",
    "\n",
    "\n",
    "\n",
    "\n",
    "\n"
   ]
  },
  {
   "cell_type": "code",
   "execution_count": null,
   "id": "915b75e5",
   "metadata": {},
   "outputs": [],
   "source": []
  },
  {
   "cell_type": "code",
   "execution_count": null,
   "id": "00be438b",
   "metadata": {},
   "outputs": [],
   "source": []
  }
 ],
 "metadata": {
  "kernelspec": {
   "display_name": "Python 3 (ipykernel)",
   "language": "python",
   "name": "python3"
  },
  "language_info": {
   "codemirror_mode": {
    "name": "ipython",
    "version": 3
   },
   "file_extension": ".py",
   "mimetype": "text/x-python",
   "name": "python",
   "nbconvert_exporter": "python",
   "pygments_lexer": "ipython3",
   "version": "3.9.7"
  }
 },
 "nbformat": 4,
 "nbformat_minor": 5
}
